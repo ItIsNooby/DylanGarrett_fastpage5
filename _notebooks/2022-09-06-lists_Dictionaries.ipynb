{
 "cells": [
  {
   "cell_type": "markdown",
   "metadata": {},
   "source": [
    "# \"Lists + Dictionaries\"\n",
    "> \"Lists and dictionaries from the lists and dictionaries lesson\"\n",
    "\n",
    "- toc: true\n",
    "- branch: master\n",
    "- badges: true\n",
    "- comments: true\n",
    "- author: Dylan Garrett\n",
    "- categories: [fastpages, jupyter]"
   ]
  },
  {
   "cell_type": "code",
   "execution_count": null,
   "metadata": {},
   "outputs": [],
   "source": [
    "# Define an empty List called InfoDb\n",
    "InfoDb = []\n",
    "\n",
    "# InfoDB is a data structure with expected Keys and Values\n",
    "\n",
    "# Append to List a Dictionary of key/values related to a person and cars\n",
    "InfoDb.append({\n",
    "    \"FirstName\": \"John\",\n",
    "    \"LastName\": \"Mortensen\",\n",
    "    \"DOB\": \"October 21\",\n",
    "    \"Residence\": \"San Diego\",\n",
    "    \"Email\": \"jmortensen@powayusd.com\",\n",
    "    \"Owns_Cars\": [\"2015-Fusion\", \"2011-Ranger\", \"2003-Excursion\", \"1997-F350\", \"1969-Cadillac\"]\n",
    "})\n",
    "\n",
    "# Append to List a 2nd Dictionary of key/values\n",
    "InfoDb.append({\n",
    "    \"FirstName\": \"Dylan\",\n",
    "    \"LastName\": \"Garrett\",\n",
    "    \"DOB\": \"January 20\",\n",
    "    \"Residence\": \"San Diego\",\n",
    "    \"Email\": \"DylanGarrett081@gmail.com\",\n",
    "    \"Owns_Cars\": [\"Tesla-Model-S-P100D\", \"Volvo-XC90\"]\n",
    "})\n",
    "\n",
    "# Print the data structure\n",
    "print(InfoDb)"
   ]
  }
 ],
 "metadata": {
  "kernelspec": {
   "display_name": "Python 3.8.10 64-bit",
   "language": "python",
   "name": "python3"
  },
  "language_info": {
   "name": "python",
   "version": "3.8.10"
  },
  "orig_nbformat": 4,
  "vscode": {
   "interpreter": {
    "hash": "916dbcbb3f70747c44a77c7bcd40155683ae19c65e1c03b4aa3499c5328201f1"
   }
  }
 },
 "nbformat": 4,
 "nbformat_minor": 2
}
