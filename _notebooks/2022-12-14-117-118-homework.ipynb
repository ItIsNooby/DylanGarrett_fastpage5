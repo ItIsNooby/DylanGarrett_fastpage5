{
 "cells": [
  {
   "attachments": {},
   "cell_type": "markdown",
   "metadata": {},
   "source": [
    "# 3.17 - 3.18\n",
    "- title: Homework 3.17 - 3.18\n",
    "- permalink: /homework1718"
   ]
  },
  {
   "attachments": {},
   "cell_type": "markdown",
   "metadata": {},
   "source": [
    "# 3.17 Algorithmic Efficiency"
   ]
  },
  {
   "attachments": {},
   "cell_type": "markdown",
   "metadata": {},
   "source": [
    "## Vocabulary\n",
    "- Problem:\n",
    "    - Decision Problem:\n",
    "    - Organization Problem:\n",
    "- Instance:\n",
    "- Efficiency:\n",
    "    - Polynomial Efficiency (Good):\n",
    "    - Exponential Efficiency (Bad):\n",
    "- Heuristic Approach:\n",
    "- Decidable Problem:\n",
    "- Undecidable Problem:\n"
   ]
  },
  {
   "attachments": {},
   "cell_type": "markdown",
   "metadata": {},
   "source": [
    "## Notes\n",
    "- efficiency is the amount of computingp ower needed to solve a problem\n",
    "- if a process is not efficient, it will be longer to achieve the same solution.\n",
    "- exponential efficiency is bad becuase the amount of computing power and time it takes is multiplied and it increases over time.\n",
    "- heruistic approach is when the most efficient solution is needed to be looked for because if not, it may result in exponential efficiency.\n",
    "- you use a test a lot of time to get more accurate data such as the length of time it takes and the amount of failures it has. More efficient code can be as much as 6x as fast as inneficient code.\n",
    "- you can model exponential efficiency by doing n^x an you will get a pretty accurate representation of the code's efficiency if you already have the data.\n",
    "- heruistic approaches are way more important if code will be ran a lot of times per second."
   ]
  },
  {
   "attachments": {},
   "cell_type": "markdown",
   "metadata": {},
   "source": [
    "## Challenge\n",
    "Try and fix this ineficcient code!\n",
    "Only change the code between the two commented lines.\n",
    "Fully programmed solution will improve your grade, at a minimum show that you tried."
   ]
  },
  {
   "cell_type": "code",
   "execution_count": 8,
   "metadata": {},
   "outputs": [
    {
     "name": "stdout",
     "output_type": "stream",
     "text": [
      "2.779470920562744 seconds\n"
     ]
    }
   ],
   "source": [
    "import time\n",
    "numlist = [1,3,5,7,9,11,13,15,17,19]\n",
    "valuelist = [0,3,6,9,12,15,18,21]\n",
    "def isvalue(value,array):\n",
    "    #--------------------\n",
    "    exists = False\n",
    "    while exists == False:\n",
    "        for i in range(len(array)):\n",
    "            if value == array[i]:\n",
    "                exists = True\n",
    "        if exists == False:\n",
    "            return exists\n",
    "                #--------------------\n",
    "starttime = time.time()\n",
    "for i in range(100000):\n",
    "    for i in range(len(valuelist)):\n",
    "        x = isvalue(valuelist[i],numlist)\n",
    "endtime = time.time()\n",
    "print(endtime-starttime,'seconds') "
   ]
  },
  {
   "attachments": {},
   "cell_type": "markdown",
   "metadata": {},
   "source": [
    "# 3.18 Undecidable Problems"
   ]
  },
  {
   "attachments": {},
   "cell_type": "markdown",
   "metadata": {},
   "source": [
    "## Notes\n",
    "- _"
   ]
  },
  {
   "attachments": {},
   "cell_type": "markdown",
   "metadata": {},
   "source": [
    "# Homework!\n",
    "\n",
    "Make an algorithm that finds the fastest route that hits every location once starting and ending at Del Norte. Make sure to show your thinking. If you are strugling, try using a huristic approach. Remember, what matters more than having perfectly functioning code is that you tried your hardest."
   ]
  },
  {
   "cell_type": "code",
   "execution_count": 6,
   "metadata": {},
   "outputs": [],
   "source": [
    "# RUN THIS CODE --- DO NOT EDIT\n",
    "dataset = {\n",
    "    'DelNorte':{\n",
    "        'Westview':15,\n",
    "        'MtCarmel':20,\n",
    "        'Poway':35,\n",
    "        'RanchoBernrdo':50\n",
    "    },\n",
    "    'Westview':{\n",
    "        'Del Norte':15,\n",
    "        'MtCarmel':35,\n",
    "        'Poway':25,\n",
    "        'RanchoBernrdo': 45\n",
    "    },\n",
    "    'MtCarmel':{\n",
    "        'Westview':35,\n",
    "        'Del Norte':20,\n",
    "        'Poway':40,\n",
    "        'RanchoBernrdo':30\n",
    "    },\n",
    "    'Poway':{\n",
    "        'Westview':25,\n",
    "        'MtCarmel':40,\n",
    "        'Del Norte':35,\n",
    "        'RanchoBernrdo':15\n",
    "    },\n",
    "    'RanchoBernardo':{\n",
    "        'Westview':45,\n",
    "        'MtCarmel':30,\n",
    "        'Poway':15,\n",
    "        'Del Norte':50\n",
    "    }\n",
    "}"
   ]
  },
  {
   "cell_type": "code",
   "execution_count": 17,
   "metadata": {},
   "outputs": [],
   "source": [
    "def fastestroute(start,data):\n",
    "    drivetime = 0\n",
    "    n = 0\n",
    "    order = []\n",
    "    for i in dataset:\n",
    "        n = n + 1\n",
    "        x = dataset[n]\n",
    "        y = min(x)\n",
    "        print(y)\n",
    "    return(drivetime,order)\n",
    "\n",
    "start = 'DelNorte'\n",
    "# 'dataset' is the name of the nested key value pair"
   ]
  },
  {
   "attachments": {},
   "cell_type": "markdown",
   "metadata": {},
   "source": [
    "### Grading:\n",
    "|Challenge|Homework|\n",
    "|---|---|\n",
    "|.15 pts for attempt|.65 for attempt|\n",
    "|.20 pts for complete|.70 for complete|\n",
    "|.25 pts for above and beyond|.75 pts for above and beyond|\n"
   ]
  }
 ],
 "metadata": {
  "kernelspec": {
   "display_name": "base",
   "language": "python",
   "name": "python3"
  },
  "language_info": {
   "codemirror_mode": {
    "name": "ipython",
    "version": 3
   },
   "file_extension": ".py",
   "mimetype": "text/x-python",
   "name": "python",
   "nbconvert_exporter": "python",
   "pygments_lexer": "ipython3",
   "version": "3.9.12 (main, Apr  5 2022, 06:56:58) \n[GCC 7.5.0]"
  },
  "orig_nbformat": 4,
  "vscode": {
   "interpreter": {
    "hash": "caf1c2fcf97217de91eafa76b907d50f9ea378f5ffbee7f571142d119bb6a771"
   }
  }
 },
 "nbformat": 4,
 "nbformat_minor": 2
}
